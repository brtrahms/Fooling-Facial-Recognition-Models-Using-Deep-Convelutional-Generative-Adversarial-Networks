{
 "cells": [
  {
   "cell_type": "code",
   "execution_count": null,
   "id": "841eab48",
   "metadata": {},
   "outputs": [],
   "source": [
    "import tensorflow as tf\n",
    "import numpy as np\n",
    "import matplotlib.pyplot as plt\n",
    "from keras_vggface.vggface import VGGFace\n",
    "from keras.utils.data_utils import get_file\n",
    "from keras_vggface.utils import preprocess_input\n",
    "from Helper import decode_predictions\n",
    "\n",
    "V2_LABELS_PATH = 'https://github.com/rcmalli/keras-vggface/releases/download/v2.0/rcmalli_vggface_labels_v2.npy'\n",
    "VGGFACE_DIR = 'models/vggface'"
   ]
  },
  {
   "cell_type": "code",
   "execution_count": null,
   "id": "a1ffa452",
   "metadata": {},
   "outputs": [],
   "source": [
    "# Testing Target\n",
    "fpath = get_file('rcmalli_vggface_labels_v2.npy', V2_LABELS_PATH, cache_subdir=VGGFACE_DIR)\n",
    "LABELS = np.load(fpath)\n",
    "## Format of ' FIRSTNAME_LASTNAME'\n",
    "Target_ID = np.where(LABELS == ' Channing_Tatum')\n",
    "\n",
    "# Load Generator Model and vggface\n",
    "test_model = tf.keras.models.load_model(\"Saved_Models/\" + LABELS[Target_ID[0][0]] + \"_Model/generator-\" + str(Target_ID[0][0]))\n",
    "test_model.summary()\n",
    "model = VGGFace(model='resnet50')"
   ]
  },
  {
   "cell_type": "code",
   "execution_count": null,
   "id": "64408154",
   "metadata": {},
   "outputs": [],
   "source": [
    "# Test loaded model\n",
    "generated_image = test_model(tf.random.normal([1,100]), training=True)\n",
    "plt.imshow(generated_image[0])\n",
    "\n",
    "# Save Tested Image\n",
    "plt.imsave(\"Images/\" + LABELS[Target_ID[0][0]] + \".png\" , generated_image.numpy()[0])\n",
    "\n",
    "generated_image = generated_image * 255\n",
    "\n",
    "generated_image = preprocess_input(generated_image, version = 2)\n",
    "    \n",
    "yhat = model(generated_image)\n",
    "\n",
    "results = decode_predictions(yhat)\n",
    "\n",
    "# display most likely results\n",
    "for result in results[0]:\n",
    "    print('id:%i %s: %.3f%%' % (result[2], result[0], result[1]*100))"
   ]
  },
  {
   "cell_type": "code",
   "execution_count": null,
   "id": "a81c38e0",
   "metadata": {},
   "outputs": [],
   "source": [
    "# Load Tested image\n",
    "\n",
    "image = plt.imread('Images/' + LABELS[Target_ID[0][0]] + \".png\")\n",
    "\n",
    "plt.imshow(image)\n",
    "\n",
    "image = image[...,0:3] * 255\n",
    "image = np.expand_dims(image, axis=0)\n",
    "\n",
    "image = preprocess_input(image, version = 2)\n",
    "    \n",
    "yhat = model(image)\n",
    "\n",
    "results = decode_predictions(yhat)\n",
    "\n",
    "# display most likely results\n",
    "for result in results[0]:\n",
    "    print('id:%i %s: %.3f%%' % (result[2], result[0], result[1]*100))"
   ]
  }
 ],
 "metadata": {
  "kernelspec": {
   "display_name": "Python 3 (ipykernel)",
   "language": "python",
   "name": "python3"
  },
  "language_info": {
   "codemirror_mode": {
    "name": "ipython",
    "version": 3
   },
   "file_extension": ".py",
   "mimetype": "text/x-python",
   "name": "python",
   "nbconvert_exporter": "python",
   "pygments_lexer": "ipython3",
   "version": "3.9.7"
  }
 },
 "nbformat": 4,
 "nbformat_minor": 5
}
