{
 "cells": [
  {
   "cell_type": "code",
   "execution_count": 1,
   "id": "48d51900",
   "metadata": {},
   "outputs": [],
   "source": [
    "from Helper import make_generator_model\n",
    "from Helper import train\n",
    "import tensorflow as tf\n",
    "from keras_vggface.vggface import VGGFace\n",
    "import numpy as np\n",
    "import matplotlib.pyplot as plt\n",
    "from keras.utils.data_utils import get_file\n",
    "\n",
    "V2_LABELS_PATH = 'https://github.com/rcmalli/keras-vggface/releases/download/v2.0/rcmalli_vggface_labels_v2.npy'\n",
    "VGGFACE_DIR = 'models/vggface'"
   ]
  },
  {
   "cell_type": "code",
   "execution_count": 2,
   "id": "e1091fe8",
   "metadata": {},
   "outputs": [],
   "source": [
    "# Make Generator and VGGFACE\n",
    "tf.compat.v1.enable_eager_execution()\n",
    "tf.random.set_seed(1)\n",
    "generator = make_generator_model()\n",
    "model = VGGFace(model='senet50')\n",
    "\n",
    "# Trainer settings\n",
    "EPOCHS = 3001\n",
    "BATCH = 5\n",
    "\n",
    "# Training Target\n",
    "fpath = get_file('rcmalli_vggface_labels_v2.npy', V2_LABELS_PATH, cache_subdir=VGGFACE_DIR)\n",
    "LABELS = np.load(fpath)\n",
    "## Format of ' FIRSTNAME_LASTNAME'\n",
    "Target_ID = np.where(LABELS == ' Whoopi_Goldberg')"
   ]
  },
  {
   "cell_type": "code",
   "execution_count": 3,
   "id": "8af6ec4e",
   "metadata": {},
   "outputs": [
    {
     "name": "stdout",
     "output_type": "stream",
     "text": [
      "Training 8365 - Whoopi_Goldberg\n",
      "Loss at Epoch 0 is 7.853772\n",
      "Loss at Epoch 50 is 5.6747017\n",
      "Loss at Epoch 100 is 0.397477\n",
      "Loss at Epoch 150 is 0.0704249\n",
      "Loss at Epoch 200 is 0.015182756\n",
      "Loss at Epoch 250 is 0.006005337\n",
      "Loss at Epoch 300 is 0.0025273636\n",
      "Loss at Epoch 350 is 0.0013396497\n",
      "Loss at Epoch 400 is 0.0010056217\n",
      "Loss at Epoch 450 is 0.0007960449\n",
      "Loss at Epoch 500 is 0.00054984057\n",
      "Loss at Epoch 550 is 0.00041526332\n",
      "Loss at Epoch 600 is 0.00033818505\n",
      "Loss at Epoch 650 is 0.00033785994\n",
      "Loss at Epoch 700 is 0.00019681019\n",
      "Loss at Epoch 750 is 0.00025019964\n",
      "Loss at Epoch 800 is 0.00013810181\n",
      "Loss at Epoch 850 is 0.0001741688\n",
      "Loss at Epoch 900 is 0.00023313313\n",
      "Loss at Epoch 950 is 0.00013830583\n",
      "Loss at Epoch 1000 is 0.00014243007\n",
      "Loss at Epoch 1050 is 0.00011177687\n",
      "Loss at Epoch 1100 is 0.00011722585\n",
      "Loss at Epoch 1150 is 0.00011701173\n",
      "Loss at Epoch 1200 is 8.120877e-05\n",
      "Loss at Epoch 1250 is 0.00010803365\n",
      "Loss at Epoch 1300 is 0.0001084276\n",
      "Loss at Epoch 1350 is 7.367412e-05\n",
      "Loss at Epoch 1400 is 0.00010308734\n",
      "Loss at Epoch 1450 is 7.334032e-05\n",
      "Loss at Epoch 1500 is 6.976408e-05\n",
      "Loss at Epoch 1550 is 7.989737e-05\n",
      "Loss at Epoch 1600 is 9.004395e-05\n",
      "Loss at Epoch 1650 is 5.943954e-05\n",
      "Loss at Epoch 1700 is 6.838091e-05\n",
      "Loss at Epoch 1750 is 6.47328e-05\n",
      "Loss at Epoch 1800 is 6.5114386e-05\n",
      "Loss at Epoch 1850 is 6.435128e-05\n",
      "Loss at Epoch 1900 is 4.797101e-05\n",
      "Loss at Epoch 1950 is 6.6282984e-05\n",
      "Loss at Epoch 2000 is 5.2882697e-05\n",
      "Loss at Epoch 2050 is 5.290676e-05\n",
      "Loss at Epoch 2100 is 4.3917677e-05\n",
      "Loss at Epoch 2150 is 5.355032e-05\n",
      "Loss at Epoch 2200 is 5.0283834e-05\n",
      "Loss at Epoch 2250 is 4.9020153e-05\n",
      "Loss at Epoch 2300 is 3.8052367e-05\n",
      "Loss at Epoch 2350 is 3.7074817e-05\n",
      "Loss at Epoch 2400 is 3.8290833e-05\n",
      "Loss at Epoch 2450 is 4.8495705e-05\n",
      "Loss at Epoch 2500 is 3.9530638e-05\n",
      "Loss at Epoch 2550 is 4.2964028e-05\n",
      "Loss at Epoch 2600 is 3.573964e-05\n",
      "Loss at Epoch 2650 is 3.0041192e-05\n",
      "Loss at Epoch 2700 is 3.2377775e-05\n",
      "Loss at Epoch 2750 is 2.9969688e-05\n",
      "Loss at Epoch 2800 is 3.0875693e-05\n",
      "Loss at Epoch 2850 is 3.5882797e-05\n",
      "Loss at Epoch 2900 is 3.16149e-05\n",
      "Loss at Epoch 2950 is 3.521507e-05\n",
      "Loss at Epoch 3000 is 2.2888453e-05\n",
      "Model saved after Epoch 3001\n",
      "WARNING:tensorflow:Compiled the loaded model, but the compiled metrics have yet to be built. `model.compile_metrics` will be empty until you train or evaluate the model.\n",
      "INFO:tensorflow:Assets written to: Saved_Models/ Whoopi_Goldberg_Model/generator-8365\\assets\n",
      "Loss Statistics Saved to CSV\n"
     ]
    },
    {
     "data": {
      "text/plain": [
       "[<matplotlib.lines.Line2D at 0x1c39d5743a0>]"
      ]
     },
     "execution_count": 3,
     "metadata": {},
     "output_type": "execute_result"
    },
    {
     "data": {
      "image/png": "[encoded data removed]",
      "text/plain": [
       "<Figure size 432x288 with 1 Axes>"
      ]
     },
     "metadata": {
      "needs_background": "light"
     },
     "output_type": "display_data"
    }
   ],
   "source": [
    "# Training Loop\n",
    "\n",
    "lr_sch = tf.keras.optimizers.schedules.ExponentialDecay(.1, 10000, .8, staircase = True)\n",
    "loss = [[],[]]\n",
    "\n",
    "print(\"Training \" + str(Target_ID[0][0]) + \" -\" + LABELS[Target_ID[0][0]]) \n",
    "\n",
    "tf.random.set_seed(1)\n",
    "for i in range(EPOCHS):\n",
    "    gen_opt = tf.keras.optimizers.Adam(lr_sch(i))\n",
    "    train(generator, model, gen_opt, BATCH, i, loss, Target_ID)\n",
    "\n",
    "print(\"Model saved after Epoch \" + str(EPOCHS))\n",
    "generator.save(\"Saved_Models/\" + LABELS[Target_ID[0][0]] + \"_Model/generator-\" + str(Target_ID[0][0]))\n",
    "\n",
    "print(\"Loss Statistics Saved to CSV\")\n",
    "np.savetxt(\"Loss_Stat/\" + str(Target_ID[0][0]) + \".csv\", loss, delimiter= ',')\n",
    "plt.plot(loss[0], loss[1])"
   ]
  }
 ],
 "metadata": {
  "kernelspec": {
   "display_name": "Python 3 (ipykernel)",
   "language": "python",
   "name": "python3"
  },
  "language_info": {
   "codemirror_mode": {
    "name": "ipython",
    "version": 3
   },
   "file_extension": ".py",
   "mimetype": "text/x-python",
   "name": "python",
   "nbconvert_exporter": "python",
   "pygments_lexer": "ipython3",
   "version": "3.9.7"
  }
 },
 "nbformat": 4,
 "nbformat_minor": 5
}
