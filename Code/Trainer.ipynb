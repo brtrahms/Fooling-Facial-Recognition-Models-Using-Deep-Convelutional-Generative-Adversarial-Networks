{
 "cells": [
  {
   "cell_type": "code",
   "execution_count": null,
   "id": "48d51900",
   "metadata": {},
   "outputs": [],
   "source": [
    "from Helper import make_generator_model\n",
    "from Helper import train\n",
    "import tensorflow as tf\n",
    "from keras_vggface.vggface import VGGFace\n",
    "import numpy as np\n",
    "import matplotlib.pyplot as plt\n",
    "from keras.utils.data_utils import get_file\n",
    "\n",
    "V2_LABELS_PATH = 'https://github.com/rcmalli/keras-vggface/releases/download/v2.0/rcmalli_vggface_labels_v2.npy'\n",
    "VGGFACE_DIR = 'models/vggface'"
   ]
  },
  {
   "cell_type": "code",
   "execution_count": null,
   "id": "e1091fe8",
   "metadata": {},
   "outputs": [],
   "source": [
    "# Make Generator and VGGFACE\n",
    "tf.compat.v1.enable_eager_execution()\n",
    "tf.random.set_seed(1)\n",
    "generator = make_generator_model()\n",
    "model = VGGFace(model='senet50')\n",
    "\n",
    "# Trainer settings\n",
    "EPOCHS = 3001\n",
    "BATCH = 5\n",
    "\n",
    "# Training Target\n",
    "fpath = get_file('rcmalli_vggface_labels_v2.npy', V2_LABELS_PATH, cache_subdir=VGGFACE_DIR)\n",
    "LABELS = np.load(fpath)\n",
    "## Format of ' FIRSTNAME_LASTNAME'\n",
    "Target_ID = np.where(LABELS == ' Whoopi_Goldberg')"
   ]
  },
  {
   "cell_type": "code",
   "execution_count": null,
   "id": "8af6ec4e",
   "metadata": {},
   "outputs": [],
   "source": [
    "# Training Loop\n",
    "\n",
    "lr_sch = tf.keras.optimizers.schedules.ExponentialDecay(.1, 10000, .8, staircase = True)\n",
    "loss = [[],[]]\n",
    "\n",
    "print(\"Training \" + str(Target_ID[0][0]) + \" -\" + LABELS[Target_ID[0][0]]) \n",
    "\n",
    "tf.random.set_seed(1)\n",
    "for i in range(EPOCHS):\n",
    "    gen_opt = tf.keras.optimizers.Adam(lr_sch(i))\n",
    "    train(generator, model, gen_opt, BATCH, i, loss, Target_ID)\n",
    "\n",
    "print(\"Model saved after Epoch \" + str(EPOCHS))\n",
    "generator.save(\"Saved_Models/\" + LABELS[Target_ID[0][0]] + \"_Model/generator-\" + str(Target_ID[0][0]))\n",
    "\n",
    "print(\"Loss Statistics Saved to CSV\")\n",
    "np.savetxt(\"Loss_Stat/\" + str(Target_ID[0][0]) + \".csv\", loss, delimiter= ',')\n",
    "plt.plot(loss[0], loss[1])"
   ]
  }
 ],
 "metadata": {
  "kernelspec": {
   "display_name": "Python 3 (ipykernel)",
   "language": "python",
   "name": "python3"
  },
  "language_info": {
   "codemirror_mode": {
    "name": "ipython",
    "version": 3
   },
   "file_extension": ".py",
   "mimetype": "text/x-python",
   "name": "python",
   "nbconvert_exporter": "python",
   "pygments_lexer": "ipython3",
   "version": "3.9.7"
  }
 },
 "nbformat": 4,
 "nbformat_minor": 5
}
